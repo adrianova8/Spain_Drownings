{
 "cells": [
  {
   "cell_type": "markdown",
   "id": "cbac75e6",
   "metadata": {},
   "source": [
    "# Análisis Exploratorio de los Datos (EDA)"
   ]
  },
  {
   "cell_type": "code",
   "execution_count": 2,
   "id": "6aa3851d",
   "metadata": {},
   "outputs": [],
   "source": [
    "import numpy as np\n",
    "import pandas as pd\n",
    "import matplotlib.pyplot as plt\n",
    "import os"
   ]
  },
  {
   "cell_type": "code",
   "execution_count": 3,
   "id": "5712d2b3",
   "metadata": {},
   "outputs": [
    {
     "data": {
      "text/html": [
       "<div>\n",
       "<style scoped>\n",
       "    .dataframe tbody tr th:only-of-type {\n",
       "        vertical-align: middle;\n",
       "    }\n",
       "\n",
       "    .dataframe tbody tr th {\n",
       "        vertical-align: top;\n",
       "    }\n",
       "\n",
       "    .dataframe thead th {\n",
       "        text-align: right;\n",
       "    }\n",
       "</style>\n",
       "<table border=\"1\" class=\"dataframe\">\n",
       "  <thead>\n",
       "    <tr style=\"text-align: right;\">\n",
       "      <th></th>\n",
       "      <th>Fecha</th>\n",
       "      <th>IdAhogado</th>\n",
       "      <th>IdPersona</th>\n",
       "      <th>Localidad</th>\n",
       "      <th>Provincia</th>\n",
       "      <th>CCAA</th>\n",
       "      <th>Hora</th>\n",
       "      <th>Latitud</th>\n",
       "      <th>Longitud</th>\n",
       "      <th>Sexo</th>\n",
       "      <th>...</th>\n",
       "      <th>Actividad</th>\n",
       "      <th>Deteccion</th>\n",
       "      <th>Enlace1</th>\n",
       "      <th>Column</th>\n",
       "      <th>Column2</th>\n",
       "      <th>Column3</th>\n",
       "      <th>Column4</th>\n",
       "      <th>Column5</th>\n",
       "      <th>Column6</th>\n",
       "      <th>Column7</th>\n",
       "    </tr>\n",
       "  </thead>\n",
       "  <tbody>\n",
       "    <tr>\n",
       "      <th>0</th>\n",
       "      <td>2020-12-30</td>\n",
       "      <td>7432</td>\n",
       "      <td>8532</td>\n",
       "      <td>Torredembarra</td>\n",
       "      <td>Tarragona</td>\n",
       "      <td>Cataluña</td>\n",
       "      <td>NaN</td>\n",
       "      <td>41.130523</td>\n",
       "      <td>1.395311</td>\n",
       "      <td>Sin Datos</td>\n",
       "      <td>...</td>\n",
       "      <td>Sin datos</td>\n",
       "      <td>Ciudadano</td>\n",
       "      <td>#https://www.diarimes.com/es/noticias/camp_tar...</td>\n",
       "      <td>NaN</td>\n",
       "      <td>NaN</td>\n",
       "      <td>NaN</td>\n",
       "      <td>NaN</td>\n",
       "      <td>NaN</td>\n",
       "      <td>NaN</td>\n",
       "      <td>NaN</td>\n",
       "    </tr>\n",
       "    <tr>\n",
       "      <th>1</th>\n",
       "      <td>2020-12-29</td>\n",
       "      <td>7431</td>\n",
       "      <td>8531</td>\n",
       "      <td>Cádiz, Playa de Santa Maria del Mar</td>\n",
       "      <td>Cádiz</td>\n",
       "      <td>Andalucía</td>\n",
       "      <td>17:48</td>\n",
       "      <td>36.519991</td>\n",
       "      <td>-6.287258</td>\n",
       "      <td>Sin Datos</td>\n",
       "      <td>...</td>\n",
       "      <td>Natación recreativa</td>\n",
       "      <td>Ciudadano</td>\n",
       "      <td>#https://elcorreoweb.es/andalucia/encuentran-u...</td>\n",
       "      <td>NaN</td>\n",
       "      <td>NaN</td>\n",
       "      <td>NaN</td>\n",
       "      <td>NaN</td>\n",
       "      <td>NaN</td>\n",
       "      <td>NaN</td>\n",
       "      <td>NaN</td>\n",
       "    </tr>\n",
       "    <tr>\n",
       "      <th>2</th>\n",
       "      <td>2020-12-29</td>\n",
       "      <td>7426</td>\n",
       "      <td>8525</td>\n",
       "      <td>San Sebastián, Río Urumea</td>\n",
       "      <td>Guipúzcoa</td>\n",
       "      <td>País Vasco</td>\n",
       "      <td>02:30</td>\n",
       "      <td>43.317215</td>\n",
       "      <td>-1.977996</td>\n",
       "      <td>Hombre</td>\n",
       "      <td>...</td>\n",
       "      <td>Circulación en vehiculo</td>\n",
       "      <td>Acompañante, familiar, amigo</td>\n",
       "      <td>#https://www.lavanguardia.com/local/paisvasco/...</td>\n",
       "      <td>NaN</td>\n",
       "      <td>NaN</td>\n",
       "      <td>NaN</td>\n",
       "      <td>NaN</td>\n",
       "      <td>NaN</td>\n",
       "      <td>NaN</td>\n",
       "      <td>NaN</td>\n",
       "    </tr>\n",
       "    <tr>\n",
       "      <th>3</th>\n",
       "      <td>2020-12-29</td>\n",
       "      <td>7426</td>\n",
       "      <td>8526</td>\n",
       "      <td>San Sebastián, Río Urumea</td>\n",
       "      <td>Guipúzcoa</td>\n",
       "      <td>País Vasco</td>\n",
       "      <td>02:30</td>\n",
       "      <td>43.317215</td>\n",
       "      <td>-1.977996</td>\n",
       "      <td>Hombre</td>\n",
       "      <td>...</td>\n",
       "      <td>Circulación en vehiculo</td>\n",
       "      <td>Acompañante, familiar, amigo</td>\n",
       "      <td>#https://www.lavanguardia.com/local/paisvasco/...</td>\n",
       "      <td>NaN</td>\n",
       "      <td>NaN</td>\n",
       "      <td>NaN</td>\n",
       "      <td>NaN</td>\n",
       "      <td>NaN</td>\n",
       "      <td>NaN</td>\n",
       "      <td>NaN</td>\n",
       "    </tr>\n",
       "    <tr>\n",
       "      <th>4</th>\n",
       "      <td>2020-12-28</td>\n",
       "      <td>7427</td>\n",
       "      <td>8527</td>\n",
       "      <td>La Graciosa</td>\n",
       "      <td>Las Palmas</td>\n",
       "      <td>Canarias</td>\n",
       "      <td>07:30</td>\n",
       "      <td>29.225448</td>\n",
       "      <td>-13.502007</td>\n",
       "      <td>Hombre</td>\n",
       "      <td>...</td>\n",
       "      <td>Embarcación a motor</td>\n",
       "      <td>Acompañante, familiar, amigo</td>\n",
       "      <td>#https://www.canarias7.es/canarias/lanzarote/p...</td>\n",
       "      <td>NaN</td>\n",
       "      <td>NaN</td>\n",
       "      <td>NaN</td>\n",
       "      <td>NaN</td>\n",
       "      <td>NaN</td>\n",
       "      <td>NaN</td>\n",
       "      <td>NaN</td>\n",
       "    </tr>\n",
       "  </tbody>\n",
       "</table>\n",
       "<p>5 rows × 34 columns</p>\n",
       "</div>"
      ],
      "text/plain": [
       "        Fecha  IdAhogado  IdPersona                            Localidad  \\\n",
       "0  2020-12-30       7432       8532                        Torredembarra   \n",
       "1  2020-12-29       7431       8531  Cádiz, Playa de Santa Maria del Mar   \n",
       "2  2020-12-29       7426       8525            San Sebastián, Río Urumea   \n",
       "3  2020-12-29       7426       8526            San Sebastián, Río Urumea   \n",
       "4  2020-12-28       7427       8527                          La Graciosa   \n",
       "\n",
       "    Provincia        CCAA   Hora    Latitud    Longitud       Sexo  ...  \\\n",
       "0   Tarragona    Cataluña    NaN  41.130523    1.395311  Sin Datos  ...   \n",
       "1       Cádiz   Andalucía  17:48  36.519991   -6.287258  Sin Datos  ...   \n",
       "2   Guipúzcoa  País Vasco  02:30  43.317215   -1.977996     Hombre  ...   \n",
       "3   Guipúzcoa  País Vasco  02:30  43.317215   -1.977996     Hombre  ...   \n",
       "4  Las Palmas    Canarias  07:30  29.225448  -13.502007     Hombre  ...   \n",
       "\n",
       "                 Actividad                     Deteccion  \\\n",
       "0                Sin datos                     Ciudadano   \n",
       "1      Natación recreativa                     Ciudadano   \n",
       "2  Circulación en vehiculo  Acompañante, familiar, amigo   \n",
       "3  Circulación en vehiculo  Acompañante, familiar, amigo   \n",
       "4      Embarcación a motor  Acompañante, familiar, amigo   \n",
       "\n",
       "                                             Enlace1 Column Column2 Column3  \\\n",
       "0  #https://www.diarimes.com/es/noticias/camp_tar...    NaN     NaN     NaN   \n",
       "1  #https://elcorreoweb.es/andalucia/encuentran-u...    NaN     NaN     NaN   \n",
       "2  #https://www.lavanguardia.com/local/paisvasco/...    NaN     NaN     NaN   \n",
       "3  #https://www.lavanguardia.com/local/paisvasco/...    NaN     NaN     NaN   \n",
       "4  #https://www.canarias7.es/canarias/lanzarote/p...    NaN     NaN     NaN   \n",
       "\n",
       "  Column4 Column5 Column6 Column7  \n",
       "0     NaN     NaN     NaN     NaN  \n",
       "1     NaN     NaN     NaN     NaN  \n",
       "2     NaN     NaN     NaN     NaN  \n",
       "3     NaN     NaN     NaN     NaN  \n",
       "4     NaN     NaN     NaN     NaN  \n",
       "\n",
       "[5 rows x 34 columns]"
      ]
     },
     "execution_count": 3,
     "metadata": {},
     "output_type": "execute_result"
    }
   ],
   "source": [
    "drowning = pd.read_csv(\"datos-ahogamiento.csv\")\n",
    "drowning.head()"
   ]
  },
  {
   "cell_type": "code",
   "execution_count": 4,
   "id": "9f0c2116",
   "metadata": {},
   "outputs": [
    {
     "data": {
      "text/html": [
       "<div>\n",
       "<style scoped>\n",
       "    .dataframe tbody tr th:only-of-type {\n",
       "        vertical-align: middle;\n",
       "    }\n",
       "\n",
       "    .dataframe tbody tr th {\n",
       "        vertical-align: top;\n",
       "    }\n",
       "\n",
       "    .dataframe thead th {\n",
       "        text-align: right;\n",
       "    }\n",
       "</style>\n",
       "<table border=\"1\" class=\"dataframe\">\n",
       "  <thead>\n",
       "    <tr style=\"text-align: right;\">\n",
       "      <th></th>\n",
       "      <th>Fecha</th>\n",
       "      <th>IdAhogado</th>\n",
       "      <th>IdPersona</th>\n",
       "      <th>Localidad</th>\n",
       "      <th>Provincia</th>\n",
       "      <th>CCAA</th>\n",
       "      <th>Hora</th>\n",
       "      <th>Latitud</th>\n",
       "      <th>Longitud</th>\n",
       "      <th>Sexo</th>\n",
       "      <th>...</th>\n",
       "      <th>Factor</th>\n",
       "      <th>Intervencion</th>\n",
       "      <th>Pronostico</th>\n",
       "      <th>Localizacion</th>\n",
       "      <th>Riesgo</th>\n",
       "      <th>Reanimacion</th>\n",
       "      <th>Vigilancia</th>\n",
       "      <th>Actividad</th>\n",
       "      <th>Deteccion</th>\n",
       "      <th>Enlace1</th>\n",
       "    </tr>\n",
       "  </thead>\n",
       "  <tbody>\n",
       "    <tr>\n",
       "      <th>0</th>\n",
       "      <td>2020-12-30</td>\n",
       "      <td>7432</td>\n",
       "      <td>8532</td>\n",
       "      <td>Torredembarra</td>\n",
       "      <td>Tarragona</td>\n",
       "      <td>Cataluña</td>\n",
       "      <td>NaN</td>\n",
       "      <td>41.130523</td>\n",
       "      <td>1.395311</td>\n",
       "      <td>Sin Datos</td>\n",
       "      <td>...</td>\n",
       "      <td>Sin datos</td>\n",
       "      <td>Recuperación de cadaver</td>\n",
       "      <td>Ahogamiento mortal</td>\n",
       "      <td>Franja costera o alta mar</td>\n",
       "      <td>Sin datos</td>\n",
       "      <td>Recuperacion de cadaver</td>\n",
       "      <td>No vigilado</td>\n",
       "      <td>Sin datos</td>\n",
       "      <td>Ciudadano</td>\n",
       "      <td>#https://www.diarimes.com/es/noticias/camp_tar...</td>\n",
       "    </tr>\n",
       "    <tr>\n",
       "      <th>1</th>\n",
       "      <td>2020-12-29</td>\n",
       "      <td>7431</td>\n",
       "      <td>8531</td>\n",
       "      <td>Cádiz, Playa de Santa Maria del Mar</td>\n",
       "      <td>Cádiz</td>\n",
       "      <td>Andalucía</td>\n",
       "      <td>17:48</td>\n",
       "      <td>36.519991</td>\n",
       "      <td>-6.287258</td>\n",
       "      <td>Sin Datos</td>\n",
       "      <td>...</td>\n",
       "      <td>Sin datos</td>\n",
       "      <td>Recuperación de cadaver</td>\n",
       "      <td>Ahogamiento no mortal con hospitalizacion</td>\n",
       "      <td>Playas sin vigilancia</td>\n",
       "      <td>Sin datos</td>\n",
       "      <td>SVA por SEM</td>\n",
       "      <td>No vigilado</td>\n",
       "      <td>Natación recreativa</td>\n",
       "      <td>Ciudadano</td>\n",
       "      <td>#https://elcorreoweb.es/andalucia/encuentran-u...</td>\n",
       "    </tr>\n",
       "    <tr>\n",
       "      <th>2</th>\n",
       "      <td>2020-12-29</td>\n",
       "      <td>7426</td>\n",
       "      <td>8525</td>\n",
       "      <td>San Sebastián, Río Urumea</td>\n",
       "      <td>Guipúzcoa</td>\n",
       "      <td>País Vasco</td>\n",
       "      <td>02:30</td>\n",
       "      <td>43.317215</td>\n",
       "      <td>-1.977996</td>\n",
       "      <td>Hombre</td>\n",
       "      <td>...</td>\n",
       "      <td>Sin datos</td>\n",
       "      <td>Recuperación de cadaver</td>\n",
       "      <td>Ahogamiento mortal</td>\n",
       "      <td>Puertos, embarcaderos, amarres</td>\n",
       "      <td>Malas condiciones meterológicas o del agua (Ba...</td>\n",
       "      <td>Recuperacion de cadaver</td>\n",
       "      <td>No vigilado</td>\n",
       "      <td>Circulación en vehiculo</td>\n",
       "      <td>Acompañante, familiar, amigo</td>\n",
       "      <td>#https://www.lavanguardia.com/local/paisvasco/...</td>\n",
       "    </tr>\n",
       "    <tr>\n",
       "      <th>3</th>\n",
       "      <td>2020-12-29</td>\n",
       "      <td>7426</td>\n",
       "      <td>8526</td>\n",
       "      <td>San Sebastián, Río Urumea</td>\n",
       "      <td>Guipúzcoa</td>\n",
       "      <td>País Vasco</td>\n",
       "      <td>02:30</td>\n",
       "      <td>43.317215</td>\n",
       "      <td>-1.977996</td>\n",
       "      <td>Hombre</td>\n",
       "      <td>...</td>\n",
       "      <td>Sin datos</td>\n",
       "      <td>Recuperación de cadaver</td>\n",
       "      <td>Rescate y traslado a supervisión médica</td>\n",
       "      <td>Puertos, embarcaderos, amarres</td>\n",
       "      <td>Malas condiciones meterológicas o del agua (Ba...</td>\n",
       "      <td>Sin Reanimacion</td>\n",
       "      <td>No vigilado</td>\n",
       "      <td>Circulación en vehiculo</td>\n",
       "      <td>Acompañante, familiar, amigo</td>\n",
       "      <td>#https://www.lavanguardia.com/local/paisvasco/...</td>\n",
       "    </tr>\n",
       "    <tr>\n",
       "      <th>4</th>\n",
       "      <td>2020-12-28</td>\n",
       "      <td>7427</td>\n",
       "      <td>8527</td>\n",
       "      <td>La Graciosa</td>\n",
       "      <td>Las Palmas</td>\n",
       "      <td>Canarias</td>\n",
       "      <td>07:30</td>\n",
       "      <td>29.225448</td>\n",
       "      <td>-13.502007</td>\n",
       "      <td>Hombre</td>\n",
       "      <td>...</td>\n",
       "      <td>Navegación, deportes acuáticos</td>\n",
       "      <td>Asistencia por transeúntes adiestrados</td>\n",
       "      <td>Rescate sin consecuencias</td>\n",
       "      <td>Franja costera o alta mar</td>\n",
       "      <td>Sin datos</td>\n",
       "      <td>Sin Reanimacion</td>\n",
       "      <td>No vigilado</td>\n",
       "      <td>Embarcación a motor</td>\n",
       "      <td>Acompañante, familiar, amigo</td>\n",
       "      <td>#https://www.canarias7.es/canarias/lanzarote/p...</td>\n",
       "    </tr>\n",
       "  </tbody>\n",
       "</table>\n",
       "<p>5 rows × 27 columns</p>\n",
       "</div>"
      ],
      "text/plain": [
       "        Fecha  IdAhogado  IdPersona                            Localidad  \\\n",
       "0  2020-12-30       7432       8532                        Torredembarra   \n",
       "1  2020-12-29       7431       8531  Cádiz, Playa de Santa Maria del Mar   \n",
       "2  2020-12-29       7426       8525            San Sebastián, Río Urumea   \n",
       "3  2020-12-29       7426       8526            San Sebastián, Río Urumea   \n",
       "4  2020-12-28       7427       8527                          La Graciosa   \n",
       "\n",
       "    Provincia        CCAA   Hora    Latitud    Longitud       Sexo  ...  \\\n",
       "0   Tarragona    Cataluña    NaN  41.130523    1.395311  Sin Datos  ...   \n",
       "1       Cádiz   Andalucía  17:48  36.519991   -6.287258  Sin Datos  ...   \n",
       "2   Guipúzcoa  País Vasco  02:30  43.317215   -1.977996     Hombre  ...   \n",
       "3   Guipúzcoa  País Vasco  02:30  43.317215   -1.977996     Hombre  ...   \n",
       "4  Las Palmas    Canarias  07:30  29.225448  -13.502007     Hombre  ...   \n",
       "\n",
       "                           Factor                            Intervencion  \\\n",
       "0                       Sin datos                 Recuperación de cadaver   \n",
       "1                       Sin datos                 Recuperación de cadaver   \n",
       "2                       Sin datos                 Recuperación de cadaver   \n",
       "3                       Sin datos                 Recuperación de cadaver   \n",
       "4  Navegación, deportes acuáticos  Asistencia por transeúntes adiestrados   \n",
       "\n",
       "                                  Pronostico                    Localizacion  \\\n",
       "0                         Ahogamiento mortal       Franja costera o alta mar   \n",
       "1  Ahogamiento no mortal con hospitalizacion           Playas sin vigilancia   \n",
       "2                         Ahogamiento mortal  Puertos, embarcaderos, amarres   \n",
       "3    Rescate y traslado a supervisión médica  Puertos, embarcaderos, amarres   \n",
       "4                  Rescate sin consecuencias       Franja costera o alta mar   \n",
       "\n",
       "                                              Riesgo              Reanimacion  \\\n",
       "0                                          Sin datos  Recuperacion de cadaver   \n",
       "1                                          Sin datos              SVA por SEM   \n",
       "2  Malas condiciones meterológicas o del agua (Ba...  Recuperacion de cadaver   \n",
       "3  Malas condiciones meterológicas o del agua (Ba...          Sin Reanimacion   \n",
       "4                                          Sin datos          Sin Reanimacion   \n",
       "\n",
       "    Vigilancia                Actividad                     Deteccion  \\\n",
       "0  No vigilado                Sin datos                     Ciudadano   \n",
       "1  No vigilado      Natación recreativa                     Ciudadano   \n",
       "2  No vigilado  Circulación en vehiculo  Acompañante, familiar, amigo   \n",
       "3  No vigilado  Circulación en vehiculo  Acompañante, familiar, amigo   \n",
       "4  No vigilado      Embarcación a motor  Acompañante, familiar, amigo   \n",
       "\n",
       "                                             Enlace1  \n",
       "0  #https://www.diarimes.com/es/noticias/camp_tar...  \n",
       "1  #https://elcorreoweb.es/andalucia/encuentran-u...  \n",
       "2  #https://www.lavanguardia.com/local/paisvasco/...  \n",
       "3  #https://www.lavanguardia.com/local/paisvasco/...  \n",
       "4  #https://www.canarias7.es/canarias/lanzarote/p...  \n",
       "\n",
       "[5 rows x 27 columns]"
      ]
     },
     "execution_count": 4,
     "metadata": {},
     "output_type": "execute_result"
    }
   ],
   "source": [
    "# Clean the data\n",
    "drowning = drowning.iloc[:, :27] # Select the columns of interest\n",
    "drowning.head()"
   ]
  },
  {
   "cell_type": "code",
   "execution_count": 5,
   "id": "14d5e3e5",
   "metadata": {},
   "outputs": [],
   "source": [
    "# Crear variable si se ha producido un ahogamiento mortal o no\n",
    "drowning[\"AhogamientoMortal\"] = np.where(drowning[\"Pronostico\"] == \"Ahogamiento mortal\", 1, 0)"
   ]
  },
  {
   "cell_type": "markdown",
   "id": "1511bc84",
   "metadata": {},
   "source": [
    "## Franjas de edades"
   ]
  },
  {
   "cell_type": "code",
   "execution_count": 6,
   "id": "c12dc179",
   "metadata": {},
   "outputs": [
    {
     "name": "stdout",
     "output_type": "stream",
     "text": [
      " Edad mínima: 1.0\n",
      " Edad máxima: 96.0\n"
     ]
    }
   ],
   "source": [
    "print(\" Edad mínima:\", drowning[\"Edad\"].min())\n",
    "print(\" Edad máxima:\", drowning[\"Edad\"].max())"
   ]
  },
  {
   "cell_type": "code",
   "execution_count": 7,
   "id": "50d7f72c",
   "metadata": {},
   "outputs": [
    {
     "data": {
      "text/plain": [
       "70.0    286\n",
       "30.0    270\n",
       "50.0    266\n",
       "40.0    250\n",
       "60.0    200\n",
       "       ... \n",
       "93.0      6\n",
       "92.0      5\n",
       "91.0      4\n",
       "96.0      2\n",
       "95.0      2\n",
       "Name: Edad, Length: 95, dtype: int64"
      ]
     },
     "execution_count": 7,
     "metadata": {},
     "output_type": "execute_result"
    }
   ],
   "source": [
    "# Número de ahogamientos por edad\n",
    "drowning[\"Edad\"].value_counts()"
   ]
  },
  {
   "cell_type": "code",
   "execution_count": 8,
   "id": "04b24e0d",
   "metadata": {},
   "outputs": [
    {
     "data": {
      "image/png": "[encoded data removed]",
      "text/plain": [
       "<Figure size 640x480 with 1 Axes>"
      ]
     },
     "metadata": {},
     "output_type": "display_data"
    }
   ],
   "source": [
    "# Frequencia de la variable edad\n",
    "plt.hist(drowning[\"Edad\"])\n",
    "plt.show()"
   ]
  },
  {
   "cell_type": "markdown",
   "id": "f4d01e98",
   "metadata": {},
   "source": [
    "### División grupo de edades en edad Baja, Media, Alta"
   ]
  },
  {
   "cell_type": "code",
   "execution_count": 9,
   "id": "e85dc6af",
   "metadata": {
    "scrolled": true
   },
   "outputs": [
    {
     "name": "stdout",
     "output_type": "stream",
     "text": [
      "Baja edad: 0 a 29 años  2143\n",
      "Media edad: 30 a 59 años  2104\n",
      "Alta edad: 60 años en adelante  2190\n"
     ]
    }
   ],
   "source": [
    "# Consulta \"edad\" a la base de datos de ahogamiento\n",
    "drowning_age = drowning[\"Edad\"]\n",
    "\n",
    "# Baja edad: 0 a 24 años\n",
    "print(\"Baja edad: 0 a 29 años \", drowning_age[(drowning_age > 0) & (drowning_age <= 30)].count())\n",
    "\n",
    "# Media edad: 25 a 59 años\n",
    "print(\"Media edad: 30 a 59 años \", drowning_age[(drowning_age >= 31) & (drowning_age <= 59)].count())\n",
    "\n",
    "# Alta edad: 60 en adelante\n",
    "print(\"Alta edad: 60 años en adelante \", drowning_age[(drowning_age >= 60)].count())"
   ]
  },
  {
   "cell_type": "markdown",
   "id": "1718e507",
   "metadata": {},
   "source": [
    "+ No se tienen en cuenta los 1579 registros por los cuales no hay datos."
   ]
  },
  {
   "cell_type": "markdown",
   "id": "762f8451",
   "metadata": {},
   "source": [
    "### Division grupo de edades en 5 grupos"
   ]
  },
  {
   "cell_type": "code",
   "execution_count": 10,
   "id": "af3a050b",
   "metadata": {},
   "outputs": [
    {
     "name": "stdout",
     "output_type": "stream",
     "text": [
      "Grupo 1: 0 a 15 años  1027\n",
      "Grupo 2: 16 a 30 años  1116\n",
      "Grupo 3: 31 a 45 años  1063\n",
      "Grupo 4: 46 a 60 años  1241\n",
      "Grupo 5: 61 años en adelante  1990\n"
     ]
    }
   ],
   "source": [
    "# Grupo 1\n",
    "print(\"Grupo 1: 0 a 15 años \", drowning_age[(drowning_age > 0) & (drowning_age <= 15)].count())\n",
    "\n",
    "# Grupo 2\n",
    "print(\"Grupo 2: 16 a 30 años \", drowning_age[(drowning_age >= 16) & (drowning_age <= 30)].count())\n",
    "\n",
    "# Grupo 3\n",
    "print(\"Grupo 3: 31 a 45 años \", drowning_age[(drowning_age >= 31) & (drowning_age <= 45)].count())\n",
    "\n",
    "# Grupo 4\n",
    "print(\"Grupo 4: 46 a 60 años \" ,drowning_age[(drowning_age >= 46) & (drowning_age <= 60)].count())\n",
    "\n",
    "# Grupo 5\n",
    "print(\"Grupo 5: 61 años en adelante \", drowning_age[(drowning_age >= 61)].count())"
   ]
  },
  {
   "cell_type": "markdown",
   "id": "caec95cc",
   "metadata": {},
   "source": [
    "+ Parece razonable mantener la división de grupos de edad por niveles: **baja edad, media edad y alta edad**, ya que es el resultado que mantiene un mejor balanceo de los datos por edad. "
   ]
  },
  {
   "cell_type": "markdown",
   "id": "0ccef426",
   "metadata": {},
   "source": [
    "### Medidas estadísticas \n",
    "\n",
    "   + Media\n",
    "   + Mediana\n",
    "   + Moda\n",
    "   + Desviación estándard"
   ]
  },
  {
   "cell_type": "code",
   "execution_count": 11,
   "id": "810e26c3",
   "metadata": {},
   "outputs": [],
   "source": [
    "# Creamos los grupos dividiendo por niveles de edad (baja edad, media edad y alta edad)\n",
    "\n",
    "low_age = drowning[(drowning[\"Edad\"] > 0) & (drowning[\"Edad\"] <= 30)]\n",
    "\n",
    "middle_age = drowning[(drowning[\"Edad\"] >= 31) & (drowning[\"Edad\"] <= 59)]\n",
    "\n",
    "old_age = drowning[(drowning[\"Edad\"] >= 60)]\n",
    "\n",
    "all_ages = drowning[(drowning[\"Edad\"] > 0) & (drowning[\"Edad\"] <= 100)]"
   ]
  },
  {
   "cell_type": "code",
   "execution_count": 12,
   "id": "91f25d8d",
   "metadata": {},
   "outputs": [
    {
     "data": {
      "text/html": [
       "<div>\n",
       "<style scoped>\n",
       "    .dataframe tbody tr th:only-of-type {\n",
       "        vertical-align: middle;\n",
       "    }\n",
       "\n",
       "    .dataframe tbody tr th {\n",
       "        vertical-align: top;\n",
       "    }\n",
       "\n",
       "    .dataframe thead th {\n",
       "        text-align: right;\n",
       "    }\n",
       "</style>\n",
       "<table border=\"1\" class=\"dataframe\">\n",
       "  <thead>\n",
       "    <tr style=\"text-align: right;\">\n",
       "      <th></th>\n",
       "      <th>low age</th>\n",
       "      <th>middle age</th>\n",
       "      <th>old age</th>\n",
       "    </tr>\n",
       "  </thead>\n",
       "  <tbody>\n",
       "    <tr>\n",
       "      <th>count</th>\n",
       "      <td>2143.000000</td>\n",
       "      <td>2104.000000</td>\n",
       "      <td>2190.000000</td>\n",
       "    </tr>\n",
       "    <tr>\n",
       "      <th>mean</th>\n",
       "      <td>16.601960</td>\n",
       "      <td>45.349810</td>\n",
       "      <td>72.197717</td>\n",
       "    </tr>\n",
       "    <tr>\n",
       "      <th>std</th>\n",
       "      <td>8.755083</td>\n",
       "      <td>7.526606</td>\n",
       "      <td>7.945894</td>\n",
       "    </tr>\n",
       "    <tr>\n",
       "      <th>min</th>\n",
       "      <td>1.000000</td>\n",
       "      <td>31.000000</td>\n",
       "      <td>60.000000</td>\n",
       "    </tr>\n",
       "    <tr>\n",
       "      <th>25%</th>\n",
       "      <td>10.000000</td>\n",
       "      <td>40.000000</td>\n",
       "      <td>66.000000</td>\n",
       "    </tr>\n",
       "    <tr>\n",
       "      <th>50%</th>\n",
       "      <td>16.000000</td>\n",
       "      <td>45.000000</td>\n",
       "      <td>71.000000</td>\n",
       "    </tr>\n",
       "    <tr>\n",
       "      <th>75%</th>\n",
       "      <td>24.000000</td>\n",
       "      <td>51.000000</td>\n",
       "      <td>78.000000</td>\n",
       "    </tr>\n",
       "    <tr>\n",
       "      <th>max</th>\n",
       "      <td>30.000000</td>\n",
       "      <td>59.000000</td>\n",
       "      <td>96.000000</td>\n",
       "    </tr>\n",
       "  </tbody>\n",
       "</table>\n",
       "</div>"
      ],
      "text/plain": [
       "           low age   middle age      old age\n",
       "count  2143.000000  2104.000000  2190.000000\n",
       "mean     16.601960    45.349810    72.197717\n",
       "std       8.755083     7.526606     7.945894\n",
       "min       1.000000    31.000000    60.000000\n",
       "25%      10.000000    40.000000    66.000000\n",
       "50%      16.000000    45.000000    71.000000\n",
       "75%      24.000000    51.000000    78.000000\n",
       "max      30.000000    59.000000    96.000000"
      ]
     },
     "execution_count": 12,
     "metadata": {},
     "output_type": "execute_result"
    }
   ],
   "source": [
    "# Baja edad\n",
    "age1 = low_age[\"Edad\"].describe()\n",
    "\n",
    "# Media edad\n",
    "age2 = middle_age[\"Edad\"].describe()\n",
    "\n",
    "# Alta edad\n",
    "age3 = old_age[\"Edad\"].describe()\n",
    "\n",
    "age_description = pd.concat([age1, age2, age3], axis = 1)\n",
    "age_description.columns = ['low age', 'middle age', 'old age']\n",
    "age_description"
   ]
  },
  {
   "cell_type": "code",
   "execution_count": 13,
   "id": "f5375b05",
   "metadata": {},
   "outputs": [
    {
     "name": "stdout",
     "output_type": "stream",
     "text": [
      "Low age:  0    30.0\n",
      "Name: Edad, dtype: float64 \n",
      "\n",
      "Middle age:  0    50.0\n",
      "Name: Edad, dtype: float64 \n",
      "\n",
      "Old age:  0    70.0\n",
      "Name: Edad, dtype: float64\n"
     ]
    }
   ],
   "source": [
    "# La moda por grupo de edad\n",
    "print(\"Low age: \", low_age[\"Edad\"].mode(), \"\\n\\nMiddle age: \", middle_age[\"Edad\"].mode(), \"\\n\\nOld age: \", old_age[\"Edad\"].mode())"
   ]
  },
  {
   "cell_type": "markdown",
   "id": "04c8517c",
   "metadata": {},
   "source": [
    "+ Para el grupo de baja edad [0 -29] tenemos que la media de edad de la gente que tiene un ahogamiento es de 14 años, con una desviación estándard del 7,62. Vemos como para el 75% de los datos, los ahogados tienen una edad de 20 años o inferior. Esto demuestra que la mayoria de ahogados en la franja de baja edad hace referencia a gente muy joven.\n",
    "\n",
    "\n",
    "+ Para el grupo de media edad [30 - 59] tenemos que la media de edad de la gente que tiene un ahogamiento es de 43.60 años, con una desviación estándard del 8.60, un poco mayor que en el primer grupo, haciendo que haya más variabilidad en la edad de las víctimas de ahogamiento para este grupo. \n",
    "\n",
    "\n",
    "+ Para el grupo de alta edad [> 60] tenemos que la media de edad de la gente que tiene un ahogamiento es de 72.19 años, con una desviación estándard del 7.94. Para el 75% de los datos en el grupo de alta edad, los ahogados tienen una edad de 78 años o inferior. \n",
    "\n",
    "---\n",
    "\n",
    "+ Analizando las distribuciones de los 3 grupos podemos extraer las siguientes conclusiones:\n",
    "\n",
    "\n",
    "  - **Grupo de baja edad:** Parece tener una distribución simetrica, ya que la edad es la misma o casi la misma para la media, la mediana y la moda.\n",
    "    \n",
    "    \n",
    "  - **Grupo de mediana edad:** Los datos de media, mediana y moda presentan una distribución de asimetria hacia la derecha (asimetria positiva), la mediana está más cerca del extremo inferior de la distribución y la media está a la derecha, lo que resulta en un valor de la media mayor que el de la mediana.\n",
    "    \n",
    "    \n",
    "  - **Grupo de alta edad:** Los datos no son exactamente iguales, aunque muy parecidos, pero en el caso de tener en cuenta estas pequeñas diferencias, entonces la distribución tendría una asimetria hacia la derecha (asimetria positiva).\n",
    "    "
   ]
  },
  {
   "cell_type": "code",
   "execution_count": 14,
   "id": "1a52c643",
   "metadata": {},
   "outputs": [
    {
     "data": {
      "text/html": [
       "<div>\n",
       "<style scoped>\n",
       "    .dataframe tbody tr th:only-of-type {\n",
       "        vertical-align: middle;\n",
       "    }\n",
       "\n",
       "    .dataframe tbody tr th {\n",
       "        vertical-align: top;\n",
       "    }\n",
       "\n",
       "    .dataframe thead th {\n",
       "        text-align: right;\n",
       "    }\n",
       "</style>\n",
       "<table border=\"1\" class=\"dataframe\">\n",
       "  <thead>\n",
       "    <tr style=\"text-align: right;\">\n",
       "      <th></th>\n",
       "      <th>low age</th>\n",
       "      <th>medium age</th>\n",
       "      <th>old age</th>\n",
       "      <th>all ages</th>\n",
       "    </tr>\n",
       "  </thead>\n",
       "  <tbody>\n",
       "    <tr>\n",
       "      <th>count</th>\n",
       "      <td>1782</td>\n",
       "      <td>1772</td>\n",
       "      <td>1893</td>\n",
       "      <td>5447</td>\n",
       "    </tr>\n",
       "    <tr>\n",
       "      <th>unique</th>\n",
       "      <td>339</td>\n",
       "      <td>427</td>\n",
       "      <td>448</td>\n",
       "      <td>698</td>\n",
       "    </tr>\n",
       "    <tr>\n",
       "      <th>top</th>\n",
       "      <td>17:00</td>\n",
       "      <td>11:00</td>\n",
       "      <td>17:00</td>\n",
       "      <td>17:00</td>\n",
       "    </tr>\n",
       "    <tr>\n",
       "      <th>freq</th>\n",
       "      <td>108</td>\n",
       "      <td>82</td>\n",
       "      <td>77</td>\n",
       "      <td>251</td>\n",
       "    </tr>\n",
       "  </tbody>\n",
       "</table>\n",
       "</div>"
      ],
      "text/plain": [
       "       low age medium age old age all ages\n",
       "count     1782       1772    1893     5447\n",
       "unique     339        427     448      698\n",
       "top      17:00      11:00   17:00    17:00\n",
       "freq       108         82      77      251"
      ]
     },
     "execution_count": 14,
     "metadata": {},
     "output_type": "execute_result"
    }
   ],
   "source": [
    "# Análisis de la frequencia de la hora de ahogamiento por grupo de edad\n",
    "\n",
    "# Baja edad\n",
    "time1 = low_age[\"Hora\"].describe()\n",
    "\n",
    "# Media edad\n",
    "time2 = middle_age[\"Hora\"].describe()\n",
    "\n",
    "# Alta edad\n",
    "time3 = old_age[\"Hora\"].describe()\n",
    "\n",
    "# Todas las edades\n",
    "time4 = all_ages[\"Hora\"].describe()\n",
    "\n",
    "hour_description = pd.concat([time1, time2, time3, time4], axis = 1)\n",
    "hour_description.columns = ['low age', 'medium age', 'old age', 'all ages']\n",
    "hour_description"
   ]
  },
  {
   "cell_type": "markdown",
   "id": "4616c9e6",
   "metadata": {},
   "source": [
    "+ En el siguiente dataframe podemos observar la hora más frecuente en la que suele producirse el ahogamiento por grupo de edad. Para el grupo de baja edad encontramos que las 17:00h es la hora más frecuente en el que se produce el accidente acuático. Para el grupo de media edad, la hora más frecuente son las 11:00h, mientras que el grupo de alta edad coincide con el grupo de baja edad, las 17:00h.\n",
    "\n",
    "---\n",
    "\n",
    "+ Teniendo en cuenta todas las edades, la hora más común de producirse el accidente acuático es a las 17:00h, con un total de 251 registros."
   ]
  },
  {
   "cell_type": "code",
   "execution_count": 15,
   "id": "b335b3e2",
   "metadata": {},
   "outputs": [
    {
     "data": {
      "text/html": [
       "<div>\n",
       "<style scoped>\n",
       "    .dataframe tbody tr th:only-of-type {\n",
       "        vertical-align: middle;\n",
       "    }\n",
       "\n",
       "    .dataframe tbody tr th {\n",
       "        vertical-align: top;\n",
       "    }\n",
       "\n",
       "    .dataframe thead th {\n",
       "        text-align: right;\n",
       "    }\n",
       "</style>\n",
       "<table border=\"1\" class=\"dataframe\">\n",
       "  <thead>\n",
       "    <tr style=\"text-align: right;\">\n",
       "      <th></th>\n",
       "      <th>low age</th>\n",
       "      <th>medium age</th>\n",
       "      <th>old age</th>\n",
       "      <th>all_ages</th>\n",
       "    </tr>\n",
       "  </thead>\n",
       "  <tbody>\n",
       "    <tr>\n",
       "      <th>count</th>\n",
       "      <td>2143</td>\n",
       "      <td>2104</td>\n",
       "      <td>2190</td>\n",
       "      <td>6437</td>\n",
       "    </tr>\n",
       "    <tr>\n",
       "      <th>unique</th>\n",
       "      <td>970</td>\n",
       "      <td>1216</td>\n",
       "      <td>1249</td>\n",
       "      <td>2014</td>\n",
       "    </tr>\n",
       "    <tr>\n",
       "      <th>top</th>\n",
       "      <td>2016-04-19T22:00Z</td>\n",
       "      <td>2018-02-24</td>\n",
       "      <td>2018-10-08T22:00Z</td>\n",
       "      <td>2020-07-18T22:00Z</td>\n",
       "    </tr>\n",
       "    <tr>\n",
       "      <th>freq</th>\n",
       "      <td>27</td>\n",
       "      <td>12</td>\n",
       "      <td>10</td>\n",
       "      <td>31</td>\n",
       "    </tr>\n",
       "  </tbody>\n",
       "</table>\n",
       "</div>"
      ],
      "text/plain": [
       "                  low age  medium age            old age           all_ages\n",
       "count                2143        2104               2190               6437\n",
       "unique                970        1216               1249               2014\n",
       "top     2016-04-19T22:00Z  2018-02-24  2018-10-08T22:00Z  2020-07-18T22:00Z\n",
       "freq                   27          12                 10                 31"
      ]
     },
     "execution_count": 15,
     "metadata": {},
     "output_type": "execute_result"
    }
   ],
   "source": [
    "# Análisis de la frequencia de la fecha de ahogamiento por grupo de edad\n",
    "\n",
    "# Baja edad\n",
    "date1 = low_age[\"Fecha\"].describe()\n",
    "\n",
    "# Media edad\n",
    "date2 = middle_age[\"Fecha\"].describe()\n",
    "\n",
    "# Alta edad\n",
    "date3 = old_age[\"Fecha\"].describe()\n",
    "\n",
    "# Todas las edades\n",
    "date4 = all_ages[\"Fecha\"].describe()\n",
    "\n",
    "date_description = pd.concat([date1, date2, date3, date4], axis = 1)\n",
    "date_description.columns = ['low age', 'medium age', 'old age', 'all_ages']\n",
    "date_description"
   ]
  },
  {
   "cell_type": "markdown",
   "id": "157e3e0a",
   "metadata": {},
   "source": [
    "+ En el siguiente dataframe observamos para cada grupo de edad la fecha en la que se produce el accidente acuático. Para el grupo de baja edad se produjo en un mismo dia 27 accidentes acuáticos en un martes de abril de 2016. En el grupo de media edad se produjo en un 18 de julio de 2020 un total de 13 accidentes acuáticos, mientras que para el grupo de alta edad se produjo en un 8 de septiembre de 2018 un total de 10 accidentes acuáticos. \n",
    "\n",
    "---\n",
    "\n",
    "+ Si consideramos todas las franjas de edad observamos como el 18 de julio del año 2020 hubo un total de 31 accidentes acuáticos, de los cuales 13 de ellos fueron del grupo de edad media."
   ]
  },
  {
   "cell_type": "markdown",
   "id": "d54390f9",
   "metadata": {},
   "source": [
    "# Test de hipótesis\n",
    "\n",
    "+ Primera aproximación vamos a realizar un test de hipotesis por grupos de edad, es decir, comparar la media de registros de ahogamiento mortal en el grupo de baja edad con el grupo de media edad. Luego comparar la media de registros de ahogamiento mortal en el grupo de baja edad con el grupo de alta edad. Y finalmente comparar la media de registros de ahogamiento mortal en el grupo de media edad con el grupo de alta edad. **t-Student**\n",
    "\n",
    "---\n",
    "\n",
    "\n",
    "+ También nos puede interesar comparar la media de registros de ahogamiento para los 3 grupos de edad (baja, media y alta edad). **ANOVA**"
   ]
  },
  {
   "cell_type": "code",
   "execution_count": 16,
   "id": "95a21cc0",
   "metadata": {},
   "outputs": [
    {
     "data": {
      "text/html": [
       "<div>\n",
       "<style scoped>\n",
       "    .dataframe tbody tr th:only-of-type {\n",
       "        vertical-align: middle;\n",
       "    }\n",
       "\n",
       "    .dataframe tbody tr th {\n",
       "        vertical-align: top;\n",
       "    }\n",
       "\n",
       "    .dataframe thead th {\n",
       "        text-align: right;\n",
       "    }\n",
       "</style>\n",
       "<table border=\"1\" class=\"dataframe\">\n",
       "  <thead>\n",
       "    <tr style=\"text-align: right;\">\n",
       "      <th></th>\n",
       "      <th>Ahogamientos Mortales</th>\n",
       "      <th>Ahogamientos Totales</th>\n",
       "      <th>Ahogamientos ortales (%)</th>\n",
       "    </tr>\n",
       "  </thead>\n",
       "  <tbody>\n",
       "    <tr>\n",
       "      <th>Baja Edad</th>\n",
       "      <td>567</td>\n",
       "      <td>2143</td>\n",
       "      <td>26.46</td>\n",
       "    </tr>\n",
       "    <tr>\n",
       "      <th>Media Edad</th>\n",
       "      <td>1152</td>\n",
       "      <td>2104</td>\n",
       "      <td>54.75</td>\n",
       "    </tr>\n",
       "    <tr>\n",
       "      <th>Alta Edad</th>\n",
       "      <td>1500</td>\n",
       "      <td>2190</td>\n",
       "      <td>68.49</td>\n",
       "    </tr>\n",
       "  </tbody>\n",
       "</table>\n",
       "</div>"
      ],
      "text/plain": [
       "            Ahogamientos Mortales  Ahogamientos Totales  \\\n",
       "Baja Edad                     567                  2143   \n",
       "Media Edad                   1152                  2104   \n",
       "Alta Edad                    1500                  2190   \n",
       "\n",
       "            Ahogamientos ortales (%)  \n",
       "Baja Edad                      26.46  \n",
       "Media Edad                     54.75  \n",
       "Alta Edad                      68.49  "
      ]
     },
     "execution_count": 16,
     "metadata": {},
     "output_type": "execute_result"
    }
   ],
   "source": [
    "# Creamos un dataframe para ver la cantidad de ahogamientos totales ha\n",
    "# tenido cada grupo de edad y cual de ellos han sido mortales\n",
    "\n",
    "total_accidents = [low_age[\"AhogamientoMortal\"].count(), middle_age[\"AhogamientoMortal\"].count(), old_age[\"AhogamientoMortal\"].count()]\n",
    "mortal_accidents = [low_age[\"AhogamientoMortal\"].sum(), middle_age[\"AhogamientoMortal\"].sum(), old_age[\"AhogamientoMortal\"].sum()]\n",
    "perc_mortal_accidents = [round((mortal_accidents[i] / total_accidents[i] * 100), 2) for i in range(len(total_accidents))]\n",
    "\n",
    "# Dataframe\n",
    "dic_accidents = {\"Ahogamientos Mortales\": mortal_accidents,\"Ahogamientos Totales\": total_accidents, \"Ahogamientos ortales (%)\": perc_mortal_accidents}\n",
    "df_accidents = pd.DataFrame(dic_accidents, index = [\"Baja Edad\", \"Media Edad\", \"Alta Edad\"])\n",
    "df_accidents"
   ]
  },
  {
   "cell_type": "markdown",
   "id": "f5951644",
   "metadata": {},
   "source": [
    "+ A simple vista podemos observar como hay diferencias en el % de muertes por ahogamiento en relación al total de ahogamientos. La gente joven (< 30) que se encuentra en el primer grupo (Baja Edad) tiene un porcentaje inferior de morir en un accidente acúatico que la gente mayor (> 60) que se encuentra en el tercer grupo (Alta Edad)."
   ]
  },
  {
   "cell_type": "markdown",
   "id": "0aca3eba",
   "metadata": {},
   "source": [
    "### **CHECK NORMALITY**  AND  **VARIANCE**\n",
    "\n",
    "$H_0$: Los datos están normalmente distribuidos // Las varianzas de las muestras son iguales\n",
    "\n",
    "$H_A$: Los datos **no** están normalmente distribuidos // Las varianzas de las muestras **no** son iguales"
   ]
  },
  {
   "cell_type": "code",
   "execution_count": 17,
   "id": "08a63858",
   "metadata": {},
   "outputs": [],
   "source": [
    "import scipy.stats as stats"
   ]
  },
  {
   "cell_type": "code",
   "execution_count": 18,
   "id": "08171f1f",
   "metadata": {},
   "outputs": [],
   "source": [
    "def check_normality(data):\n",
    "    \n",
    "    test_stat_normality, p_value_normality=stats.shapiro(data)\n",
    "    print(\"p value:%.4f\" % p_value_normality)\n",
    "    \n",
    "    if p_value_normality < 0.05:\n",
    "        print(\"Reject null hypothesis >> The data is not normally distributed\")\n",
    "    else:\n",
    "        print(\"Fail to reject null hypothesis >> The data is normally distributed\")\n",
    "        \n",
    "def check_variance_homogeneity(group1, group2):\n",
    "    \n",
    "    test_stat_var, p_value_var= stats.levene(group1,group2)\n",
    "    print(\"p value:%.4f\" % p_value_var)\n",
    "    \n",
    "    if p_value_var <0.05:\n",
    "        print(\"Reject null hypothesis >> The variances of the samples are different.\")\n",
    "    else:\n",
    "        print(\"Fail to reject null hypothesis >> The variances of the samples are same.\")\n"
   ]
  },
  {
   "cell_type": "code",
   "execution_count": 19,
   "id": "10572741",
   "metadata": {},
   "outputs": [
    {
     "name": "stdout",
     "output_type": "stream",
     "text": [
      "p value:0.0000\n",
      "Reject null hypothesis >> The data is not normally distributed\n",
      "p value:0.0000\n",
      "Reject null hypothesis >> The data is not normally distributed\n",
      "p value:0.0000\n",
      "Reject null hypothesis >> The data is not normally distributed\n",
      "p value:0.0000\n",
      "Reject null hypothesis >> The variances of the samples are different.\n",
      "p value:0.0002\n",
      "Reject null hypothesis >> The variances of the samples are different.\n",
      "p value:0.0000\n",
      "Reject null hypothesis >> The variances of the samples are different.\n"
     ]
    }
   ],
   "source": [
    "# Comprobamos si los grupos de edad siguen una distribución normal\n",
    "check_normality(low_age[\"AhogamientoMortal\"])\n",
    "check_normality(middle_age[\"AhogamientoMortal\"])\n",
    "check_normality(old_age[\"AhogamientoMortal\"])\n",
    "\n",
    "# Comprobamos si los grupos de edad tienen una varianza parecida entre ellos\n",
    "check_variance_homogeneity(low_age[\"AhogamientoMortal\"], middle_age[\"AhogamientoMortal\"])\n",
    "check_variance_homogeneity(low_age[\"AhogamientoMortal\"], old_age[\"AhogamientoMortal\"])\n",
    "check_variance_homogeneity(middle_age[\"AhogamientoMortal\"], old_age[\"AhogamientoMortal\"])"
   ]
  },
  {
   "cell_type": "markdown",
   "id": "e200399f",
   "metadata": {},
   "source": [
    "+ Podemos ver como claramente disponemos de grupos de edad que no siguen una distribución normal y entre grupos tienen varianzas diferentes. Como las suposiciones no se cumplen debemos aplicar una versión no paramétrica de ANOVA para los datos \"unpaired\" (es decir, los grupos no estan formados por los mismos individuos). \n",
    "\n",
    "---\n",
    "\n",
    "+ Estamos interesados en saber si hay alguna diferencia en el número de ahogamientos mortales por grupos de edad (baja edad, media edad y alta edad)."
   ]
  },
  {
   "cell_type": "markdown",
   "id": "4b227b85",
   "metadata": {},
   "source": [
    "### CHECK KRUSKAL-WALLIS\n",
    "\n",
    "$H_0$: No hay diferencia significativa en el número de ahogamientos mortales entre los grupos de edad\n",
    "\n",
    "$H_A$: Hay diferencia significativa en el número de ahogamientos mortales entre los grupos de edad."
   ]
  },
  {
   "cell_type": "code",
   "execution_count": 20,
   "id": "3c66dafa",
   "metadata": {},
   "outputs": [
    {
     "name": "stdout",
     "output_type": "stream",
     "text": [
      "p value:0.000000\n",
      "Reject null hypothesis\n"
     ]
    }
   ],
   "source": [
    "F, p_value = stats.kruskal(low_age[\"AhogamientoMortal\"], middle_age[\"AhogamientoMortal\"], old_age[\"AhogamientoMortal\"])\n",
    "\n",
    "print(\"p value:%.6f\" % p_value)\n",
    "if p_value <0.05:\n",
    "    print(\"Reject null hypothesis\")\n",
    "else:\n",
    "    print(\"Fail to reject null hypothesis\")"
   ]
  },
  {
   "cell_type": "markdown",
   "id": "6c7ffa7d",
   "metadata": {},
   "source": [
    "+ A este nivel de significancia, almenos uno de los grupos de edad tiene dispone de un número diferente.\n",
    "\n",
    "**Nota** Como los datos no se distribuyen de una forma normal, usaremos la versión no paramétrica de **posthoc**"
   ]
  },
  {
   "cell_type": "code",
   "execution_count": 21,
   "id": "55d70bff",
   "metadata": {},
   "outputs": [
    {
     "data": {
      "text/html": [
       "<style type=\"text/css\">\n",
       "#T_8021d_row0_col0, #T_8021d_row1_col1, #T_8021d_row2_col2 {\n",
       "  background-color: white;\n",
       "}\n",
       "#T_8021d_row0_col1, #T_8021d_row0_col2, #T_8021d_row1_col0, #T_8021d_row1_col2, #T_8021d_row2_col0, #T_8021d_row2_col1 {\n",
       "  background-color: violet;\n",
       "}\n",
       "</style>\n",
       "<table id=\"T_8021d\">\n",
       "  <thead>\n",
       "    <tr>\n",
       "      <th class=\"blank level0\" >&nbsp;</th>\n",
       "      <th id=\"T_8021d_level0_col0\" class=\"col_heading level0 col0\" >low age</th>\n",
       "      <th id=\"T_8021d_level0_col1\" class=\"col_heading level0 col1\" >middle age</th>\n",
       "      <th id=\"T_8021d_level0_col2\" class=\"col_heading level0 col2\" >old age</th>\n",
       "    </tr>\n",
       "  </thead>\n",
       "  <tbody>\n",
       "    <tr>\n",
       "      <th id=\"T_8021d_level0_row0\" class=\"row_heading level0 row0\" >low age</th>\n",
       "      <td id=\"T_8021d_row0_col0\" class=\"data row0 col0\" >1.000000</td>\n",
       "      <td id=\"T_8021d_row0_col1\" class=\"data row0 col1\" >0.000000</td>\n",
       "      <td id=\"T_8021d_row0_col2\" class=\"data row0 col2\" >0.000000</td>\n",
       "    </tr>\n",
       "    <tr>\n",
       "      <th id=\"T_8021d_level0_row1\" class=\"row_heading level0 row1\" >middle age</th>\n",
       "      <td id=\"T_8021d_row1_col0\" class=\"data row1 col0\" >0.000000</td>\n",
       "      <td id=\"T_8021d_row1_col1\" class=\"data row1 col1\" >1.000000</td>\n",
       "      <td id=\"T_8021d_row1_col2\" class=\"data row1 col2\" >0.000000</td>\n",
       "    </tr>\n",
       "    <tr>\n",
       "      <th id=\"T_8021d_level0_row2\" class=\"row_heading level0 row2\" >old age</th>\n",
       "      <td id=\"T_8021d_row2_col0\" class=\"data row2 col0\" >0.000000</td>\n",
       "      <td id=\"T_8021d_row2_col1\" class=\"data row2 col1\" >0.000000</td>\n",
       "      <td id=\"T_8021d_row2_col2\" class=\"data row2 col2\" >1.000000</td>\n",
       "    </tr>\n",
       "  </tbody>\n",
       "</table>\n"
      ],
      "text/plain": [
       "<pandas.io.formats.style.Styler at 0x125efbaf0>"
      ]
     },
     "execution_count": 21,
     "metadata": {},
     "output_type": "execute_result"
    }
   ],
   "source": [
    "import scikit_posthocs as sp\n",
    "\n",
    "posthoc_df = sp.posthoc_mannwhitney([low_age[\"AhogamientoMortal\"], middle_age[\"AhogamientoMortal\"], old_age[\"AhogamientoMortal\"]], p_adjust = 'bonferroni')\n",
    "\n",
    "group_names= [\"low age\", \"middle age\",\"old age\"]\n",
    "posthoc_df.columns= group_names\n",
    "posthoc_df.index= group_names\n",
    "posthoc_df.style.applymap(lambda x: \"background-color:violet\" if x<0.05 else \"background-color: white\")"
   ]
  },
  {
   "cell_type": "markdown",
   "id": "6cb84cc9",
   "metadata": {},
   "source": [
    "+ Obtenemos un p-valor para combinación del 0.000000 < 0.05, que nos lleva a rechazar la hipotesis nula, considerando que hay una diferencia significativa en los ahogamientos mortales por grupos de edad (baja edad, media edad y alta edad).\n",
    "\n",
    "---\n",
    "\n",
    "+ Este punto nos lleva a pensar en el siguiente: **QUÉ MOTIVOS EXPLICAN PORQUE SUELE HABER UNA RATIO MÁS ALTA DE AHOGAMIENTO MORTAL A MEDIDA QUE EL GRUPO DE EDAD ES MAYOR.**"
   ]
  },
  {
   "cell_type": "markdown",
   "id": "01ae8b67",
   "metadata": {},
   "source": [
    "**ALERTA =** La prueba de Kruskal-Wallis es una prueba no paramétrica que se utiliza para evaluar si existen diferencias significativas entre las medianas de varias muestras independientes. Esta prueba se basa en el rango de los datos y no requiere que los datos sigan una distribución normal.\n",
    "\n",
    "Sin embargo, en el caso de una variable dicotómica, la prueba de Kruskal-Wallis puede no ser la más adecuada. El problema es que la prueba de Kruskal-Wallis no tiene en cuenta que la variable es dicotómica, es decir, no tiene en cuenta que la variable solo puede tomar dos valores distintos (1 o 0).\n",
    "\n",
    "Además, la prueba de Kruskal-Wallis no tiene en cuenta la estructura de los datos y puede no ser la prueba adecuada para evaluar si hay diferencias significativas en la proporción de ahogamientos mortales en diferentes grupos de edad.\n",
    "\n",
    "---\n",
    "\n",
    "+ Si la variable \"ahogamientoMortal\" fuera continua, entonces la prueba de Kruskal-Wallis podría ser una opción adecuada."
   ]
  },
  {
   "cell_type": "markdown",
   "id": "859c54c6",
   "metadata": {},
   "source": [
    "### PRUEBA DE INDEPENDENCIAS CHI-CUADRADO \n",
    "\n",
    "+ Variable AhogamientoMortal Binaria"
   ]
  },
  {
   "cell_type": "code",
   "execution_count": 22,
   "id": "9ab7e21e",
   "metadata": {},
   "outputs": [
    {
     "name": "stdout",
     "output_type": "stream",
     "text": [
      "Valor p: 4.529754043908481e-173\n"
     ]
    }
   ],
   "source": [
    "from scipy.stats import chi2_contingency\n",
    "\n",
    "# Crear una tabla de contingencia con los datos de ahogamientos mortales por grupo de edad:\n",
    "tabla_contingencia = [[low_age[\"AhogamientoMortal\"].sum(), len(low_age[\"AhogamientoMortal\"])-low_age[\"AhogamientoMortal\"].sum()],\n",
    "                      [middle_age[\"AhogamientoMortal\"].sum(), len(middle_age[\"AhogamientoMortal\"])-middle_age[\"AhogamientoMortal\"].sum()],\n",
    "                      [old_age[\"AhogamientoMortal\"].sum(), len(old_age[\"AhogamientoMortal\"])-old_age[\"AhogamientoMortal\"].sum()]]\n",
    "\n",
    "# Ejecutar prueba de chi-cuadrado de independencia:\n",
    "chi2, p_value, dof, expected = chi2_contingency(tabla_contingencia)\n",
    "\n",
    "# Imprimir valor p\n",
    "print(\"Valor p:\", p_value)"
   ]
  },
  {
   "cell_type": "markdown",
   "id": "a7fc5b0c",
   "metadata": {},
   "source": [
    "+ El valor de p 8.324487084018868e-156 es inferior al nivel de significancia del 0.05, donde se puede concluir que hay diferencias significativas en la proporción de ahogamientos mortales entre los grupos de edad. \n",
    "\n",
    "---\n",
    "\n",
    "\n",
    "+ Este punto nos lleva a pensar en el siguiente: **QUÉ MOTIVOS EXPLICAN PORQUE SUELE HABER UNA RATIO MÁS ALTA DE AHOGAMIENTO MORTAL A MEDIDA QUE EL GRUPO DE EDAD ES MAYOR.**"
   ]
  },
  {
   "cell_type": "markdown",
   "id": "d1dd4476",
   "metadata": {},
   "source": [
    "Bibliografia:\n",
    "\n",
    "Hyphotesis testing:\n",
    "\n",
    "https://towardsdatascience.com/hypothesis-testing-with-python-step-by-step-hands-on-tutorial-with-practical-examples-e805975ea96e\n",
    "\n",
    "https://medium.com/swlh/what-is-chi-square-test-how-does-it-work-3b7f22c03b01"
   ]
  }
 ],
 "metadata": {
  "kernelspec": {
   "display_name": "Python 3 (ipykernel)",
   "language": "python",
   "name": "python3"
  },
  "language_info": {
   "codemirror_mode": {
    "name": "ipython",
    "version": 3
   },
   "file_extension": ".py",
   "mimetype": "text/x-python",
   "name": "python",
   "nbconvert_exporter": "python",
   "pygments_lexer": "ipython3",
   "version": "3.10.6"
  },
  "toc": {
   "base_numbering": 1,
   "nav_menu": {},
   "number_sections": true,
   "sideBar": true,
   "skip_h1_title": false,
   "title_cell": "Table of Contents",
   "title_sidebar": "Contents",
   "toc_cell": false,
   "toc_position": {},
   "toc_section_display": true,
   "toc_window_display": false
  }
 },
 "nbformat": 4,
 "nbformat_minor": 5
}
